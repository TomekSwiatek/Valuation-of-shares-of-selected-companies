{
 "cells": [
  {
   "cell_type": "markdown",
   "metadata": {},
   "source": [
    "# Wycena wybranych spółek giełdowych z wykorzystaniem 3 metod"
   ]
  },
  {
   "cell_type": "markdown",
   "metadata": {},
   "source": [
    "## 1. Metoda oparta o zdyskontowane przepływy pieniężne (DCF)"
   ]
  },
  {
   "cell_type": "markdown",
   "metadata": {},
   "source": [
    "Zdyskontowane przepływy pieniężne (ang. discounted cash flow, DCF) stanowią jedną z metod wykorzystywaną do wyceny inwestycji, spółki lub innych aktywów bazującą na podejściu rachunku wartości pieniądza w czasie. Polega na szacowaniu i dyskontowaniu wszystkich przyszłych przepływów pieniężnych w celu określenia ich wartości bieżącej. Poziom stopy dyskontowej jest kosztem kapitału i uwzględnia ocenę ryzyka dotyczącego przyszłych przepływów pieniężnych.\n",
    "\n",
    "Metoda zdyskontowanych przepływów pieniężnych jest szeroko rozpowszechniona w dziedzinie analizy inwestycji finansowych, rozwoju rynku nieruchomości oraz zarządzania korporacyjnego.\n",
    "Poniższe wyliczenia są oparte na tej metodzie i dostosowane do otoczenia rynkowego na podstawie własnego doświadczenia."
   ]
  },
  {
   "cell_type": "markdown",
   "metadata": {},
   "source": [
    "### 1.1 Wczytanie pliku z danymi wycenianych spółek"
   ]
  },
  {
   "cell_type": "code",
   "execution_count": 3,
   "metadata": {},
   "outputs": [],
   "source": [
    "import pandas as pd"
   ]
  },
  {
   "cell_type": "code",
   "execution_count": 4,
   "metadata": {},
   "outputs": [
    {
     "data": {
      "text/html": [
       "<div>\n",
       "<style scoped>\n",
       "    .dataframe tbody tr th:only-of-type {\n",
       "        vertical-align: middle;\n",
       "    }\n",
       "\n",
       "    .dataframe tbody tr th {\n",
       "        vertical-align: top;\n",
       "    }\n",
       "\n",
       "    .dataframe thead th {\n",
       "        text-align: right;\n",
       "    }\n",
       "</style>\n",
       "<table border=\"1\" class=\"dataframe\">\n",
       "  <thead>\n",
       "    <tr style=\"text-align: right;\">\n",
       "      <th></th>\n",
       "      <th>Spółka</th>\n",
       "      <th>Cena</th>\n",
       "      <th>Ilość akcji</th>\n",
       "      <th>Średnie przepływy pieniężne [w tys. PLN]</th>\n",
       "      <th>Wzrost zysku [%]</th>\n",
       "    </tr>\n",
       "  </thead>\n",
       "  <tbody>\n",
       "    <tr>\n",
       "      <th>0</th>\n",
       "      <td>ETL (EUROTEL)</td>\n",
       "      <td>36.8</td>\n",
       "      <td>3748255</td>\n",
       "      <td>3500</td>\n",
       "      <td>15</td>\n",
       "    </tr>\n",
       "    <tr>\n",
       "      <th>1</th>\n",
       "      <td>LVC (LIVECHAT)</td>\n",
       "      <td>118.0</td>\n",
       "      <td>25750000</td>\n",
       "      <td>5600</td>\n",
       "      <td>56</td>\n",
       "    </tr>\n",
       "  </tbody>\n",
       "</table>\n",
       "</div>"
      ],
      "text/plain": [
       "           Spółka   Cena  Ilość akcji  \\\n",
       "0   ETL (EUROTEL)   36.8      3748255   \n",
       "1  LVC (LIVECHAT)  118.0     25750000   \n",
       "\n",
       "   Średnie przepływy pieniężne [w tys. PLN]  Wzrost zysku [%]  \n",
       "0                                      3500                15  \n",
       "1                                      5600                56  "
      ]
     },
     "execution_count": 4,
     "metadata": {},
     "output_type": "execute_result"
    }
   ],
   "source": [
    "plik = pd.ExcelFile('Spółki do wyceny DCF.xlsx') #wczytanie pliku .xls\n",
    "df = plik.parse() #zamiana tabeli excel na ramkę danych\n",
    "df"
   ]
  },
  {
   "cell_type": "markdown",
   "metadata": {},
   "source": [
    "### 1.2 Parametry badanej spółki"
   ]
  },
  {
   "cell_type": "markdown",
   "metadata": {},
   "source": [
    "- Nazwa spółki"
   ]
  },
  {
   "cell_type": "code",
   "execution_count": 1,
   "metadata": {},
   "outputs": [],
   "source": [
    "e = 'Eurotel (ETL)'"
   ]
  },
  {
   "cell_type": "markdown",
   "metadata": {},
   "source": [
    "- Aktualna cena rynkowa"
   ]
  },
  {
   "cell_type": "code",
   "execution_count": 2,
   "metadata": {},
   "outputs": [],
   "source": [
    "p=36.8"
   ]
  },
  {
   "cell_type": "markdown",
   "metadata": {},
   "source": [
    "- Ilość akcji"
   ]
  },
  {
   "cell_type": "code",
   "execution_count": 3,
   "metadata": {},
   "outputs": [],
   "source": [
    "eq=3748255"
   ]
  },
  {
   "cell_type": "markdown",
   "metadata": {},
   "source": [
    "- Średnie przepływy pieniężne"
   ]
  },
  {
   "cell_type": "code",
   "execution_count": 4,
   "metadata": {},
   "outputs": [],
   "source": [
    "acf=3500*1000"
   ]
  },
  {
   "cell_type": "markdown",
   "metadata": {},
   "source": [
    "- Wzrost zysku (w badanym okresie wzrostu)"
   ]
  },
  {
   "cell_type": "code",
   "execution_count": 5,
   "metadata": {},
   "outputs": [],
   "source": [
    "gp=0.15"
   ]
  },
  {
   "cell_type": "markdown",
   "metadata": {},
   "source": [
    "- Wzrost zysku po badanym okresie (zakładany spadek o 50%, dodatkowe przepływy po okresie silnego wzrostu)"
   ]
  },
  {
   "cell_type": "code",
   "execution_count": 6,
   "metadata": {},
   "outputs": [],
   "source": [
    "gpa=0.08"
   ]
  },
  {
   "cell_type": "markdown",
   "metadata": {},
   "source": [
    "### 1.3 Parametry wyceny"
   ]
  },
  {
   "cell_type": "markdown",
   "metadata": {},
   "source": [
    "- Ilość lat (bazowy okres inwestycji)"
   ]
  },
  {
   "cell_type": "code",
   "execution_count": 39,
   "metadata": {},
   "outputs": [],
   "source": [
    "y=10"
   ]
  },
  {
   "cell_type": "markdown",
   "metadata": {},
   "source": [
    "- Ilość dodatkowych lat (zakładany dodatkowy okres inwestycji)"
   ]
  },
  {
   "cell_type": "code",
   "execution_count": 40,
   "metadata": {},
   "outputs": [],
   "source": [
    "ya=20"
   ]
  },
  {
   "cell_type": "markdown",
   "metadata": {},
   "source": [
    "- Zdyskontowanie (przybliżona wartość, na podstawie kosztu kapitału)"
   ]
  },
  {
   "cell_type": "code",
   "execution_count": 41,
   "metadata": {},
   "outputs": [],
   "source": [
    "d=0.1"
   ]
  },
  {
   "cell_type": "markdown",
   "metadata": {},
   "source": [
    "### 1.4 Obliczenie DFCF"
   ]
  },
  {
   "cell_type": "code",
   "execution_count": 56,
   "metadata": {},
   "outputs": [],
   "source": [
    "cf=0\n",
    "cfl=[0]\n",
    "dfcf=0\n",
    "dfcft=0\n",
    "\n",
    "def przeplywy(dane):\n",
    "    \n",
    "    #Suma zdyskontowanych przepływów w bazowym okresie\n",
    "    cf=0\n",
    "    cfl=[0]\n",
    "    dfcf=0\n",
    "    dfcft=0\n",
    "    dpcf=0\n",
    "    dpcft=0\n",
    "    \n",
    "    for i in range(1,y+1):\n",
    "        cf = dane['Średnie przepływy pieniężne [w tys. PLN]']*1000*(1+dane['Wzrost zysku [%]']/100)**i   #przepływy w kolejnych latach\n",
    "        cfl.append(cf)     #dodanie przepływów do listy\n",
    "\n",
    "        dfcf = cf/((1+d)**i) #zdyskontowane przepływy w kolejnych latach\n",
    "        dfcft = dfcft+dfcf;  #suma zdyskontowanych przepływów\n",
    "        \n",
    "    \n",
    "    #Suma zdyskontowanych przepływów po bazowym okresie\n",
    "    \n",
    "    for i in range(1,ya+1):\n",
    "        pcf = cfl[y]*(1+(dane['Wzrost zysku [%]']/100)/2)**i  #przepływy w kolejnych latach zaczynając od końca badanego okresu, założony wzrost zysku o 50% mniejszy\n",
    "  \n",
    "        dpcf = pcf/((1+d)**(i+y))#zdyskontowane przepływy w kolejnych latach zaczynając od końca badanego okresu\n",
    "        dpcft = dpcft+dpcf;      #suma zdyskontowanych przepływów     \n",
    "            \n",
    "    return dfcft+dpcft\n",
    "    \n",
    "df['Suma zdyskontowanych przepływów DFCF+DPCF']='0'      \n",
    "df['Suma zdyskontowanych przepływów DFCF+DPCF']=df.apply(przeplywy, axis=1)    \n"
   ]
  },
  {
   "cell_type": "code",
   "execution_count": 57,
   "metadata": {},
   "outputs": [
    {
     "data": {
      "text/html": [
       "<div>\n",
       "<style scoped>\n",
       "    .dataframe tbody tr th:only-of-type {\n",
       "        vertical-align: middle;\n",
       "    }\n",
       "\n",
       "    .dataframe tbody tr th {\n",
       "        vertical-align: top;\n",
       "    }\n",
       "\n",
       "    .dataframe thead th {\n",
       "        text-align: right;\n",
       "    }\n",
       "</style>\n",
       "<table border=\"1\" class=\"dataframe\">\n",
       "  <thead>\n",
       "    <tr style=\"text-align: right;\">\n",
       "      <th></th>\n",
       "      <th>Spółka</th>\n",
       "      <th>Cena</th>\n",
       "      <th>Ilość akcji</th>\n",
       "      <th>Średnie przepływy pieniężne [w tys. PLN]</th>\n",
       "      <th>Wzrost zysku [%]</th>\n",
       "      <th>Suma zdyskontowanych przepływów DFCF+DPCF</th>\n",
       "    </tr>\n",
       "  </thead>\n",
       "  <tbody>\n",
       "    <tr>\n",
       "      <th>0</th>\n",
       "      <td>ETL (EUROTEL)</td>\n",
       "      <td>36.8</td>\n",
       "      <td>3748255</td>\n",
       "      <td>3500</td>\n",
       "      <td>15</td>\n",
       "      <td>1.315805e+08</td>\n",
       "    </tr>\n",
       "    <tr>\n",
       "      <th>1</th>\n",
       "      <td>LVC (LIVECHAT)</td>\n",
       "      <td>118.0</td>\n",
       "      <td>25750000</td>\n",
       "      <td>5600</td>\n",
       "      <td>56</td>\n",
       "      <td>2.644676e+10</td>\n",
       "    </tr>\n",
       "  </tbody>\n",
       "</table>\n",
       "</div>"
      ],
      "text/plain": [
       "           Spółka   Cena  Ilość akcji  \\\n",
       "0   ETL (EUROTEL)   36.8      3748255   \n",
       "1  LVC (LIVECHAT)  118.0     25750000   \n",
       "\n",
       "   Średnie przepływy pieniężne [w tys. PLN]  Wzrost zysku [%]  \\\n",
       "0                                      3500                15   \n",
       "1                                      5600                56   \n",
       "\n",
       "   Suma zdyskontowanych przepływów DFCF+DPCF  \n",
       "0                               1.315805e+08  \n",
       "1                               2.644676e+10  "
      ]
     },
     "execution_count": 57,
     "metadata": {},
     "output_type": "execute_result"
    }
   ],
   "source": [
    "df"
   ]
  },
  {
   "cell_type": "markdown",
   "metadata": {},
   "source": [
    "### 1.5 Wycena spółki"
   ]
  },
  {
   "cell_type": "markdown",
   "metadata": {},
   "source": [
    "- Wartość wewnętrzna na 1 akcje w całym okresie"
   ]
  },
  {
   "cell_type": "code",
   "execution_count": 13,
   "metadata": {},
   "outputs": [
    {
     "name": "stdout",
     "output_type": "stream",
     "text": [
      "Wartość wewnętrzna na 1 akcje: 36.18\n"
     ]
    }
   ],
   "source": [
    "iv = (dfcft + dpcft)/eq\n",
    "\n",
    "print('Wartość wewnętrzna na 1 akcje: {}'.format(round(iv,2)))"
   ]
  },
  {
   "cell_type": "markdown",
   "metadata": {},
   "source": [
    "- Potencjał wzrostu wg DCF (akceptowalny poziom powyżej 100%)"
   ]
  },
  {
   "cell_type": "code",
   "execution_count": 14,
   "metadata": {},
   "outputs": [
    {
     "name": "stdout",
     "output_type": "stream",
     "text": [
      "Potencjał wzrostu: -1.68%\n"
     ]
    }
   ],
   "source": [
    "r=((iv-p)/p)\n",
    "\n",
    "print('Potencjał wzrostu: {}%'.format(round(r*100,2)))"
   ]
  },
  {
   "cell_type": "markdown",
   "metadata": {},
   "source": [
    "- Średnioroczny zwrot"
   ]
  },
  {
   "cell_type": "code",
   "execution_count": 15,
   "metadata": {},
   "outputs": [
    {
     "name": "stdout",
     "output_type": "stream",
     "text": [
      "Średnioroczny zwrot: -0.06%\n"
     ]
    }
   ],
   "source": [
    "ar=((1+r)**(1/(y+ya))-1)\n",
    "\n",
    "print('Średnioroczny zwrot: {}%'.format(round(ar*100,2)))"
   ]
  },
  {
   "cell_type": "markdown",
   "metadata": {},
   "source": [
    "## 1.6 Podsumowanie wyników metody opartej o zdyskontowane przepływy pieniężne (DCF)"
   ]
  },
  {
   "cell_type": "code",
   "execution_count": 16,
   "metadata": {},
   "outputs": [
    {
     "name": "stdout",
     "output_type": "stream",
     "text": [
      "Dla spółki: Eurotel (ETL)\n",
      "Przy cenie rynkowej: 37\n",
      "\n",
      "Otrzymano następujące wyniki:\n",
      "Wartość wewnętrzna na 1 akcje: 36.18\n",
      "Potencjał wzrostu: -1.68%\n",
      "Średnioroczny zwrot: -0.06%\n"
     ]
    }
   ],
   "source": [
    "print('Dla spółki:',e)\n",
    "print('Przy cenie rynkowej: {}\\n'.format(round(p)))\n",
    "\n",
    "print('Otrzymano następujące wyniki:')\n",
    "print('Wartość wewnętrzna na 1 akcje: {}'.format(round(iv,2)))\n",
    "print('Potencjał wzrostu: {}%'.format(round(r*100,2)))\n",
    "print('Średnioroczny zwrot: {}%'.format(round(ar*100,2)))"
   ]
  },
  {
   "cell_type": "code",
   "execution_count": null,
   "metadata": {},
   "outputs": [],
   "source": []
  }
 ],
 "metadata": {
  "kernelspec": {
   "display_name": "Python 3",
   "language": "python",
   "name": "python3"
  },
  "language_info": {
   "codemirror_mode": {
    "name": "ipython",
    "version": 3
   },
   "file_extension": ".py",
   "mimetype": "text/x-python",
   "name": "python",
   "nbconvert_exporter": "python",
   "pygments_lexer": "ipython3",
   "version": "3.8.3"
  }
 },
 "nbformat": 4,
 "nbformat_minor": 4
}
